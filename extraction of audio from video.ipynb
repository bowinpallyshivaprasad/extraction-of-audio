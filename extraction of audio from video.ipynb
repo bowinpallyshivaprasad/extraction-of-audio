{
 "cells": [
  {
   "cell_type": "code",
   "execution_count": 2,
   "metadata": {},
   "outputs": [
    {
     "name": "stderr",
     "output_type": "stream",
     "text": [
      "                                                                               \r"
     ]
    },
    {
     "name": "stdout",
     "output_type": "stream",
     "text": [
      "MoviePy - Writing audio in snooop.mp3\n"
     ]
    },
    {
     "name": "stderr",
     "output_type": "stream",
     "text": [
      "chunk:   4%|▊                       | 28/783 [00:22<00:26, 28.84it/s, now=None]\n",
      "chunk:   0%|                                 | 0/783 [00:00<?, ?it/s, now=None]\n",
      "chunk:   0%|                         | 3/783 [00:00<00:36, 21.28it/s, now=None]\n",
      "chunk:   4%|▉                       | 29/783 [00:01<00:32, 22.89it/s, now=None]\n",
      "chunk:   5%|█▎                      | 42/783 [00:01<00:24, 30.37it/s, now=None]\n",
      "chunk:   7%|█▌                      | 53/783 [00:01<00:18, 38.55it/s, now=None]\n",
      "chunk:   9%|██                      | 67/783 [00:01<00:14, 49.05it/s, now=None]\n",
      "chunk:  10%|██▍                     | 81/783 [00:01<00:11, 60.84it/s, now=None]\n",
      "chunk:  12%|██▉                     | 97/783 [00:01<00:09, 74.32it/s, now=None]\n",
      "chunk:  14%|███▎                   | 111/783 [00:01<00:07, 85.86it/s, now=None]\n",
      "chunk:  16%|███▋                   | 126/783 [00:01<00:06, 97.53it/s, now=None]\n",
      "chunk:  18%|███▉                  | 140/783 [00:01<00:06, 106.07it/s, now=None]\n",
      "chunk:  20%|████▎                 | 154/783 [00:02<00:05, 113.28it/s, now=None]\n",
      "chunk:  21%|████▋                 | 168/783 [00:02<00:05, 119.85it/s, now=None]\n",
      "chunk:  23%|█████▏                | 183/783 [00:02<00:04, 126.89it/s, now=None]\n",
      "chunk:  26%|█████▌                | 200/783 [00:02<00:04, 135.69it/s, now=None]\n",
      "chunk:  27%|██████                | 215/783 [00:02<00:04, 138.53it/s, now=None]\n",
      "chunk:  30%|██████▌               | 232/783 [00:02<00:03, 146.29it/s, now=None]\n",
      "chunk:  32%|██████▉               | 248/783 [00:02<00:03, 147.25it/s, now=None]\n",
      "chunk:  34%|███████▍              | 264/783 [00:02<00:03, 143.16it/s, now=None]\n",
      "chunk:  36%|███████▊              | 280/783 [00:02<00:03, 147.01it/s, now=None]\n",
      "chunk:  38%|████████▎             | 296/783 [00:02<00:03, 149.41it/s, now=None]\n",
      "chunk:  40%|████████▊             | 312/783 [00:03<00:03, 147.79it/s, now=None]\n",
      "chunk:  42%|█████████▏            | 327/783 [00:03<00:03, 148.00it/s, now=None]\n",
      "chunk:  44%|█████████▌            | 342/783 [00:03<00:03, 145.99it/s, now=None]\n",
      "chunk:  46%|██████████            | 358/783 [00:03<00:02, 149.93it/s, now=None]\n",
      "chunk:  48%|██████████▌           | 375/783 [00:03<00:02, 155.43it/s, now=None]\n",
      "chunk:  50%|███████████           | 393/783 [00:03<00:02, 161.19it/s, now=None]\n",
      "chunk:  52%|███████████▌          | 410/783 [00:03<00:02, 160.94it/s, now=None]\n",
      "chunk:  55%|████████████          | 431/783 [00:03<00:02, 171.80it/s, now=None]\n",
      "chunk:  58%|████████████▋         | 452/783 [00:03<00:01, 179.84it/s, now=None]\n",
      "chunk:  60%|█████████████▏        | 471/783 [00:04<00:01, 176.65it/s, now=None]\n",
      "chunk:  62%|█████████████▋        | 489/783 [00:04<00:01, 175.56it/s, now=None]\n",
      "chunk:  65%|██████████████▏       | 507/783 [00:04<00:01, 172.79it/s, now=None]\n",
      "chunk:  67%|██████████████▊       | 525/783 [00:04<00:01, 165.71it/s, now=None]\n",
      "chunk:  69%|███████████████▎      | 544/783 [00:04<00:01, 172.32it/s, now=None]\n",
      "chunk:  72%|███████████████▊      | 562/783 [00:04<00:01, 173.54it/s, now=None]\n",
      "chunk:  74%|████████████████▍     | 583/783 [00:04<00:01, 182.60it/s, now=None]\n",
      "chunk:  77%|████████████████▉     | 605/783 [00:04<00:00, 190.90it/s, now=None]\n",
      "chunk:  80%|█████████████████▌    | 625/783 [00:04<00:00, 187.55it/s, now=None]\n",
      "chunk:  83%|██████████████████▏   | 646/783 [00:04<00:00, 192.70it/s, now=None]\n",
      "chunk:  85%|██████████████████▋   | 666/783 [00:05<00:00, 193.69it/s, now=None]\n",
      "chunk:  88%|███████████████████▎  | 686/783 [00:05<00:00, 193.84it/s, now=None]\n",
      "chunk:  90%|███████████████████▊  | 707/783 [00:05<00:00, 196.19it/s, now=None]\n",
      "chunk:  93%|████████████████████▍ | 727/783 [00:05<00:00, 177.84it/s, now=None]\n",
      "chunk:  96%|█████████████████████ | 750/783 [00:05<00:00, 189.40it/s, now=None]\n",
      "chunk:  99%|█████████████████████▋| 772/783 [00:05<00:00, 197.12it/s, now=None]\n",
      "                                                                               \r"
     ]
    },
    {
     "name": "stdout",
     "output_type": "stream",
     "text": [
      "MoviePy - Done.\n"
     ]
    },
    {
     "name": "stderr",
     "output_type": "stream",
     "text": [
      "\r",
      "chunk:   4%|▊                       | 28/783 [00:28<00:26, 28.84it/s, now=None]"
     ]
    }
   ],
   "source": [
    "import moviepy.editor\n",
    "video=moviepy.editor.VideoFileClip('snoop.mp4')\n",
    "audio=video.audio\n",
    "audio.write_audiofile('snooop.mp3')"
   ]
  },
  {
   "cell_type": "code",
   "execution_count": null,
   "metadata": {},
   "outputs": [],
   "source": []
  },
  {
   "cell_type": "code",
   "execution_count": null,
   "metadata": {},
   "outputs": [],
   "source": []
  }
 ],
 "metadata": {
  "kernelspec": {
   "display_name": "Python 3",
   "language": "python",
   "name": "python3"
  },
  "language_info": {
   "codemirror_mode": {
    "name": "ipython",
    "version": 3
   },
   "file_extension": ".py",
   "mimetype": "text/x-python",
   "name": "python",
   "nbconvert_exporter": "python",
   "pygments_lexer": "ipython3",
   "version": "3.7.3"
  }
 },
 "nbformat": 4,
 "nbformat_minor": 2
}
